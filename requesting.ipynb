{
 "cells": [
  {
   "cell_type": "code",
   "execution_count": null,
   "metadata": {},
   "outputs": [],
   "source": [
    "import requests\n",
    "import os\n",
    "# URL of the dataset\n",
    "url = f\"https://api.data.gov.in/resource/0d6e1a0b-870e-4f9c-95f7-1e8f1e9fe14f?format=csv&api-key={os.getenv(\"LIVE_DATA_API_KEY\")}\"\n",
    "\n",
    "response = requests.get(url)\n",
    "\n",
    "if response.status_code == 200:\n",
    "    with open(\"commodities_data.csv\", \"wb\") as f:\n",
    "        f.write(response.content)\n",
    "    print(\"Dataset downloaded successfully as 'commodities_data.csv'\")\n",
    "else:\n",
    "    print(\"Failed to download dataset. Status code:\", response.status_code)\n"
   ]
  }
 ],
 "metadata": {
  "language_info": {
   "name": "python"
  }
 },
 "nbformat": 4,
 "nbformat_minor": 2
}
