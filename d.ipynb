{
 "cells": [
  {
   "cell_type": "code",
   "execution_count": 1,
   "metadata": {},
   "outputs": [
    {
     "data": {
      "text/plain": [
       "True"
      ]
     },
     "execution_count": 1,
     "metadata": {},
     "output_type": "execute_result"
    }
   ],
   "source": [
    "import cv2\n",
    "\n",
    "def remove_background(image_path):\n",
    "\n",
    "    image = cv2.imread(image_path)\n",
    "    \n",
    "\n",
    "    gray = cv2.cvtColor(image, cv2.COLOR_BGR2GRAY)\n",
    "    \n",
    "    \n",
    "    _, mask = cv2.threshold(gray, 240, 255, cv2.THRESH_BINARY)\n",
    "    \n",
    "    mask = cv2.bitwise_not(mask)\n",
    "    \n",
    "    \n",
    "    result = cv2.bitwise_and(image, image, mask=mask)\n",
    "    \n",
    "    return result\n",
    "\n",
    "# Example usage\n",
    "image_path = 'dfed.jpg'\n",
    "output_image = remove_background(image_path)\n",
    "cv2.imwrite('output_image.jpg', output_image)\n"
   ]
  }
 ],
 "metadata": {
  "kernelspec": {
   "display_name": "Python 3",
   "language": "python",
   "name": "python3"
  },
  "language_info": {
   "codemirror_mode": {
    "name": "ipython",
    "version": 3
   },
   "file_extension": ".py",
   "mimetype": "text/x-python",
   "name": "python",
   "nbconvert_exporter": "python",
   "pygments_lexer": "ipython3",
   "version": "3.11.5"
  }
 },
 "nbformat": 4,
 "nbformat_minor": 2
}
